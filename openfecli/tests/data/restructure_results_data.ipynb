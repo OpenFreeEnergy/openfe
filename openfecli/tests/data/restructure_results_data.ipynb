{
 "cells": [
  {
   "cell_type": "code",
   "execution_count": null,
   "id": "8d1899bc-337a-4024-9fa3-9cfbc452e091",
   "metadata": {},
   "outputs": [],
   "source": [
    "import json \n",
    "from gufe.tokenization import JSON_HANDLER\n",
    "import os \n",
    "import shutil\n",
    "from pathlib import Path"
   ]
  },
  {
   "cell_type": "markdown",
   "id": "a82b8123-521a-4ca3-a2cf-f73b6504fa14",
   "metadata": {},
   "source": [
    "for this dataset, we know we have 3 replicates run in serial for each leg. We want to manipulate the data so that it is equivalent to the output if we re-ran this dataset with each leg run in parallel, with the following directory structure:\n",
    "\n",
    "```\n",
    "results/\n",
    "  transformations_0/\n",
    "      rbfe_lig_ejm_31_complex_lig_ejm_42_complex/\n",
    "          shared_[hashA]_attempt_0/\n",
    "      rbfe_lig_ejm_31_complex_lig_ejm_42_complex.json\n",
    "  transformations_1/\n",
    "      rbfe_lig_ejm_31_complex_lig_ejm_42_complex/\n",
    "          shared_[hashB]_attempt_0/\n",
    "      rbfe_lig_ejm_31_complex_lig_ejm_42_complex.json\n",
    "  transformations_2/\n",
    "      rbfe_lig_ejm_31_complex_lig_ejm_42_complex/\n",
    "          shared_[hashC]_attempt_0/\n",
    "      rbfe_lig_ejm_31_complex_lig_ejm_42_complex.json\n",
    "```"
   ]
  },
  {
   "cell_type": "code",
   "execution_count": null,
   "id": "1c6ed7fe-b42c-4781-b356-85799e25356f",
   "metadata": {},
   "outputs": [],
   "source": [
    "def load_json(fpath):\n",
    "    return json.load(open(fpath, 'r'), cls=JSON_HANDLER.decoder)\n",
    "\n",
    "def dump_json(data, fpath):\n",
    "    with open(fpath, \"w\") as f:\n",
    "        json.dump(data, f, cls=JSON_HANDLER.encoder)"
   ]
  },
  {
   "cell_type": "code",
   "execution_count": null,
   "id": "8eba246a-6123-4d8e-8fd8-2de516fbf881",
   "metadata": {},
   "outputs": [],
   "source": [
    "orig_dir = Path(\"/Users/atravitz/software/openfe/openfecli/tests/data/results/\")\n",
    "new_dir = Path(\"/Users/atravitz/work/sandbox/gather_test_data/results_parallel\")"
   ]
  },
  {
   "cell_type": "code",
   "execution_count": null,
   "id": "408512e9-32c8-4c63-bfe2-8ac1fddcd17a",
   "metadata": {},
   "outputs": [],
   "source": [
    "# ! ls $orig_dir"
   ]
  },
  {
   "cell_type": "code",
   "execution_count": null,
   "id": "8047bce2-6a07-4b76-99c6-d6c70f003b00",
   "metadata": {},
   "outputs": [],
   "source": [
    "tmp_data = load_json(orig_dir/\"easy_rbfe_lig_ejm_31_complex_lig_ejm_42_complex.json\")"
   ]
  },
  {
   "cell_type": "code",
   "execution_count": null,
   "id": "f110e93a-2022-4ef2-9fd0-f925627bba06",
   "metadata": {},
   "outputs": [],
   "source": [
    "tmp_data.keys()"
   ]
  },
  {
   "cell_type": "code",
   "execution_count": null,
   "id": "b942e848-bdc0-4012-94dc-1d9545848f09",
   "metadata": {},
   "outputs": [],
   "source": [
    "tmp_data['protocol_result']['data'].keys()"
   ]
  },
  {
   "cell_type": "code",
   "execution_count": null,
   "id": "ab4f2587-9b15-422d-9faa-e11ff98fd491",
   "metadata": {},
   "outputs": [],
   "source": [
    "leg_names = []\n",
    "for name in os.listdir(orig_dir):\n",
    "    if name.endswith(\".json\"):\n",
    "        continue\n",
    "    leg_names.append(name)\n",
    "leg_names"
   ]
  },
  {
   "cell_type": "code",
   "execution_count": null,
   "id": "5a129134-b73f-4d6c-8c5e-3a08eca29b46",
   "metadata": {},
   "outputs": [],
   "source": [
    "! rm -rf $new_dir"
   ]
  },
  {
   "cell_type": "code",
   "execution_count": null,
   "id": "311a7f0e-9c91-47ae-9e09-0e1bef03aca8",
   "metadata": {},
   "outputs": [],
   "source": [
    "for leg in leg_names:\n",
    "    json_data = load_json(orig_dir/f\"{leg}.json\")\n",
    "    srckey_to_protocol = {}\n",
    "    srckey_to_unit_results = {}\n",
    "    srckey_to_estimate = {}\n",
    "    ## collect results on a per-replicate basis\n",
    "    for k in json_data['protocol_result']['data']:    \n",
    "        print(k)\n",
    "        rep_source_key = json_data['protocol_result']['data'][k][0]['source_key']\n",
    "        \n",
    "        # keep only the data for this replicate\n",
    "        rep_result = json_data['protocol_result'].copy()\n",
    "        rep_result['data']={k:json_data['protocol_result']['data'][k]}\n",
    "        srckey_to_protocol[rep_source_key] = rep_result\n",
    "\n",
    "        # pull just the estimate value so we can put it at the top of the output\n",
    "        srckey_to_estimate[rep_source_key] = rep_result['data'][k][0]['outputs']['unit_estimate']\n",
    "        \n",
    "    for k in json_data['unit_results']:\n",
    "        rep_source_key = json_data['unit_results'][k]['source_key']\n",
    "\n",
    "        rep_unit_result = json_data['unit_results'].copy()\n",
    "        rep_unit_result = {k: json_data['unit_results'][k]}\n",
    "        srckey_to_unit_results[rep_source_key] = rep_unit_result\n",
    "    \n",
    "    assert srckey_to_protocol.keys() == srckey_to_unit_results.keys()\n",
    "    \n",
    "    ## write to the new directory\n",
    "    for n, sk in enumerate(sorted(srckey_to_protocol.keys())):\n",
    "        rep_dir = new_dir/f\"replicate_{n}\"\n",
    "        os.makedirs(rep_dir/leg)\n",
    "    \n",
    "        # build up the data for this replicate\n",
    "        replicate_data = {'estimate': srckey_to_estimate[sk],\n",
    "                          'uncertainty': 0.0,\n",
    "                          'protocol_result': srckey_to_protocol[sk],\n",
    "                          'unit_results': srckey_to_unit_results[sk]}\n",
    "    \n",
    "        # write!\n",
    "        dump_json(replicate_data, rep_dir/f\"{leg}.json\")\n",
    "        working_dir_name = f\"shared_{sk}_attempt_0\"\n",
    "        ## TODO: make this work for arbitrary number of attempts \n",
    "        # os.symlink(orig_dir/leg/working_dir_name, rep_dir/leg/working_dir_name)\n",
    "        shutil.copytree(orig_dir/leg/working_dir_name, rep_dir/leg/working_dir_name)\n"
   ]
  },
  {
   "cell_type": "code",
   "execution_count": null,
   "id": "e156fb4d-459d-4f33-9162-048cb1c9a476",
   "metadata": {},
   "outputs": [],
   "source": [
    "tmp_data = load_json(\"/Users/atravitz/work/sandbox/gather_test_data/complex_11_13_all_reps.json/results_transformations_0/complex_11_13.json\")"
   ]
  },
  {
   "cell_type": "code",
   "execution_count": null,
   "id": "0f4d44b8-5dbe-49f5-86e5-58fe6c4e4968",
   "metadata": {},
   "outputs": [],
   "source": [
    "json_data.keys()\n"
   ]
  },
  {
   "cell_type": "code",
   "execution_count": null,
   "id": "a8a4be34-6079-4b55-9007-21a4ae2c3ea4",
   "metadata": {},
   "outputs": [],
   "source": [
    "json_data['unit_results']['ProtocolUnitResult-1a84266f25684314abb1c5ab94bd2932'].keys()"
   ]
  },
  {
   "cell_type": "code",
   "execution_count": null,
   "id": "21109657-8450-4eed-b4ac-36c149c30eb2",
   "metadata": {},
   "outputs": [],
   "source": [
    "tmp_data['protocol_result']['data']['153739774597735519755877734364465126162'][0]['outputs']['unit_estimate'].keys()"
   ]
  },
  {
   "cell_type": "code",
   "execution_count": null,
   "id": "4eff8697-ca51-4535-99f1-ffc558105e93",
   "metadata": {},
   "outputs": [],
   "source": [
    "json_data['protocol_result']['data']['206613422407723609770924271218313554331'][0]['outputs']['unit_estimate']"
   ]
  },
  {
   "cell_type": "code",
   "execution_count": null,
   "id": "5aebc224-9ba7-423e-a638-d7ae8ad2eda7",
   "metadata": {},
   "outputs": [],
   "source": [
    "json_data['protocol_result']['data'].keys()"
   ]
  },
  {
   "cell_type": "code",
   "execution_count": null,
   "id": "9df0c6f4-b668-41e7-8b87-817a1dc721ee",
   "metadata": {},
   "outputs": [],
   "source": [
    "single_rep = load_json(\"/Users/atravitz/work/sandbox/gather_test_data/complex_11_13_all_reps.json/results_transformations_0/complex_11_13.json\")"
   ]
  },
  {
   "cell_type": "code",
   "execution_count": null,
   "id": "8eb996ff-cffd-4a81-b7c1-072222a918e4",
   "metadata": {},
   "outputs": [],
   "source": [
    "single_rep['protocol_result']['data']['153739774597735519755877734364465126162'][0]['outputs']['unit_estimate']"
   ]
  },
  {
   "cell_type": "code",
   "execution_count": null,
   "id": "53210934-0b1e-4852-84d3-72a7688757d1",
   "metadata": {},
   "outputs": [],
   "source": [
    "json_data['protocol_result']['data']['206613422407723609770924271218313554331'][0].keys()"
   ]
  },
  {
   "cell_type": "code",
   "execution_count": null,
   "id": "ece1d625-d539-46a5-ac4f-c7fb8ddc0849",
   "metadata": {},
   "outputs": [],
   "source": [
    "json_data['protocol_result']['data'].keys()"
   ]
  },
  {
   "cell_type": "code",
   "execution_count": null,
   "id": "b1a8e4fc-95c1-4d3d-8ae9-a95d12f152a8",
   "metadata": {},
   "outputs": [],
   "source": []
  }
 ],
 "metadata": {
  "kernelspec": {
   "display_name": "Python 3 (ipykernel)",
   "language": "python",
   "name": "python3"
  },
  "language_info": {
   "codemirror_mode": {
    "name": "ipython",
    "version": 3
   },
   "file_extension": ".py",
   "mimetype": "text/x-python",
   "name": "python",
   "nbconvert_exporter": "python",
   "pygments_lexer": "ipython3",
   "version": "3.12.8"
  }
 },
 "nbformat": 4,
 "nbformat_minor": 5
}
