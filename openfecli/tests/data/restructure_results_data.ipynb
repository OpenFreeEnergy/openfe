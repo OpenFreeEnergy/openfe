{
 "cells": [
  {
   "cell_type": "code",
   "execution_count": 2,
   "id": "8d1899bc-337a-4024-9fa3-9cfbc452e091",
   "metadata": {},
   "outputs": [],
   "source": [
    "import json \n",
    "from gufe.tokenization import JSON_HANDLER\n",
    "import os \n",
    "import shutil\n",
    "from pathlib import Path"
   ]
  },
  {
   "cell_type": "markdown",
   "id": "a82b8123-521a-4ca3-a2cf-f73b6504fa14",
   "metadata": {},
   "source": [
    "for this dataset, we know we have 3 replicates run in serial for each leg. We want to manipulate the data so that it is equivalent to the output if we re-ran this dataset with each leg run in parallel, with the following directory structure:\n",
    "\n",
    "```\n",
    "results/\n",
    "  transformations_0/\n",
    "      rbfe_lig_ejm_31_complex_lig_ejm_42_complex/\n",
    "          shared_[hashA]_attempt_0/\n",
    "      rbfe_lig_ejm_31_complex_lig_ejm_42_complex.json\n",
    "  transformations_1/\n",
    "      rbfe_lig_ejm_31_complex_lig_ejm_42_complex/\n",
    "          shared_[hashB]_attempt_0/\n",
    "      rbfe_lig_ejm_31_complex_lig_ejm_42_complex.json\n",
    "  transformations_2/\n",
    "      rbfe_lig_ejm_31_complex_lig_ejm_42_complex/\n",
    "          shared_[hashC]_attempt_0/\n",
    "      rbfe_lig_ejm_31_complex_lig_ejm_42_complex.json\n",
    "```"
   ]
  },
  {
   "cell_type": "code",
   "execution_count": 3,
   "id": "1c6ed7fe-b42c-4781-b356-85799e25356f",
   "metadata": {},
   "outputs": [],
   "source": [
    "def load_json(fpath):\n",
    "    return json.load(open(fpath, 'r'), cls=JSON_HANDLER.decoder)\n",
    "\n",
    "def dump_json(data, fpath):\n",
    "    with open(fpath, \"w\") as f:\n",
    "        json.dump(data, f, cls=JSON_HANDLER.encoder)"
   ]
  },
  {
   "cell_type": "code",
   "execution_count": 4,
   "id": "8eba246a-6123-4d8e-8fd8-2de516fbf881",
   "metadata": {},
   "outputs": [],
   "source": [
    "orig_dir = Path(\"/Users/atravitz/software/openfe/openfecli/tests/data/results/\")\n",
    "new_dir = Path(\"/Users/atravitz/work/sandbox/gather_test_data/results_parallel\")"
   ]
  },
  {
   "cell_type": "code",
   "execution_count": 5,
   "id": "408512e9-32c8-4c63-bfe2-8ac1fddcd17a",
   "metadata": {},
   "outputs": [],
   "source": [
    "# ! ls $orig_dir"
   ]
  },
  {
   "cell_type": "code",
   "execution_count": 6,
   "id": "8047bce2-6a07-4b76-99c6-d6c70f003b00",
   "metadata": {},
   "outputs": [],
   "source": [
    "tmp_data = load_json(orig_dir/\"easy_rbfe_lig_ejm_31_complex_lig_ejm_42_complex.json\")"
   ]
  },
  {
   "cell_type": "code",
   "execution_count": 7,
   "id": "f110e93a-2022-4ef2-9fd0-f925627bba06",
   "metadata": {},
   "outputs": [
    {
     "data": {
      "text/plain": [
       "dict_keys(['estimate', 'uncertainty', 'protocol_result', 'unit_results'])"
      ]
     },
     "execution_count": 7,
     "metadata": {},
     "output_type": "execute_result"
    }
   ],
   "source": [
    "tmp_data.keys()"
   ]
  },
  {
   "cell_type": "code",
   "execution_count": 8,
   "id": "b942e848-bdc0-4012-94dc-1d9545848f09",
   "metadata": {},
   "outputs": [
    {
     "data": {
      "text/plain": [
       "dict_keys(['330714296593777210386804356517366745081', '204826840445410897858355357525897940103', '17154838837715859465403535134173639142'])"
      ]
     },
     "execution_count": 8,
     "metadata": {},
     "output_type": "execute_result"
    }
   ],
   "source": [
    "tmp_data['protocol_result']['data'].keys()"
   ]
  },
  {
   "cell_type": "code",
   "execution_count": 10,
   "id": "ab4f2587-9b15-422d-9faa-e11ff98fd491",
   "metadata": {},
   "outputs": [
    {
     "data": {
      "text/plain": [
       "['easy_rbfe_lig_ejm_31_solvent_lig_ejm_47_solvent',\n",
       " 'easy_rbfe_lig_ejm_31_complex_lig_ejm_47_complex',\n",
       " 'easy_rbfe_lig_ejm_31_solvent_lig_ejm_46_solvent',\n",
       " 'easy_rbfe_lig_ejm_31_complex_lig_ejm_46_complex',\n",
       " 'easy_rbfe_lig_ejm_46_complex_lig_jmc_27_complex',\n",
       " 'easy_rbfe_lig_ejm_46_solvent_lig_jmc_27_solvent',\n",
       " 'easy_rbfe_lig_ejm_31_complex_lig_ejm_50_complex',\n",
       " 'easy_rbfe_lig_ejm_31_solvent_lig_ejm_50_solvent',\n",
       " 'easy_rbfe_lig_ejm_46_solvent_lig_jmc_23_solvent',\n",
       " 'easy_rbfe_lig_ejm_31_complex_lig_ejm_48_complex',\n",
       " 'easy_rbfe_lig_ejm_46_complex_lig_jmc_23_complex',\n",
       " 'easy_rbfe_lig_ejm_31_solvent_lig_ejm_48_solvent',\n",
       " 'easy_rbfe_lig_ejm_42_solvent_lig_ejm_43_solvent',\n",
       " 'easy_rbfe_lig_ejm_42_complex_lig_ejm_43_complex',\n",
       " 'easy_rbfe_lig_ejm_46_solvent_lig_jmc_28_solvent',\n",
       " 'easy_rbfe_lig_ejm_46_complex_lig_jmc_28_complex',\n",
       " 'easy_rbfe_lig_ejm_31_complex_lig_ejm_42_complex',\n",
       " 'easy_rbfe_lig_ejm_31_solvent_lig_ejm_42_solvent']"
      ]
     },
     "execution_count": 10,
     "metadata": {},
     "output_type": "execute_result"
    }
   ],
   "source": [
    "leg_names = []\n",
    "for name in os.listdir(orig_dir):\n",
    "    if name.endswith(\".json\"):\n",
    "        continue\n",
    "    leg_names.append(name)\n",
    "leg_names"
   ]
  },
  {
   "cell_type": "code",
   "execution_count": 15,
   "id": "5a129134-b73f-4d6c-8c5e-3a08eca29b46",
   "metadata": {},
   "outputs": [],
   "source": [
    "! rm -rf $new_dir"
   ]
  },
  {
   "cell_type": "code",
   "execution_count": 16,
   "id": "311a7f0e-9c91-47ae-9e09-0e1bef03aca8",
   "metadata": {},
   "outputs": [
    {
     "name": "stdout",
     "output_type": "stream",
     "text": [
      "0\n",
      "1\n",
      "2\n",
      "0\n",
      "1\n",
      "2\n",
      "0\n",
      "1\n",
      "2\n",
      "0\n",
      "1\n",
      "2\n",
      "0\n",
      "1\n",
      "2\n",
      "0\n",
      "1\n",
      "2\n",
      "0\n",
      "1\n",
      "2\n",
      "0\n",
      "1\n",
      "2\n",
      "0\n",
      "1\n",
      "2\n",
      "0\n",
      "1\n",
      "2\n",
      "0\n",
      "1\n",
      "2\n",
      "0\n",
      "1\n",
      "2\n",
      "0\n",
      "1\n",
      "2\n",
      "0\n",
      "1\n",
      "2\n",
      "0\n",
      "1\n",
      "2\n",
      "0\n",
      "1\n",
      "2\n",
      "0\n",
      "1\n",
      "2\n",
      "0\n",
      "1\n",
      "2\n"
     ]
    }
   ],
   "source": [
    "for leg in leg_names:\n",
    "# leg = leg_names[0]\n",
    "    json_data = load_json(orig_dir/f\"{leg}.json\")\n",
    "    srckey_to_protocol = {}\n",
    "    srckey_to_units = {}\n",
    "    \n",
    "    ## collect results on a per-replicate basis\n",
    "    for k in json_data['protocol_result']['data']:    \n",
    "        rep_source_key = json_data['protocol_result']['data'][k][0]['source_key']\n",
    "        srckey_to_protocol[rep_source_key] = json_data['protocol_result']\n",
    "        \n",
    "    for k in json_data['unit_results']:\n",
    "        rep_source_key = json_data['unit_results'][k]['source_key']\n",
    "        srckey_to_units[rep_source_key] = json_data['unit_results'][k]\n",
    "    \n",
    "    assert srckey_to_protocol.keys() == srckey_to_units.keys()\n",
    "    \n",
    "    ## write to the new directory\n",
    "    for n, sk in enumerate(sorted(srckey_to_protocol.keys())):\n",
    "        rep_dir = new_dir/f\"replicate_{n}\"\n",
    "        os.makedirs(rep_dir/leg)\n",
    "    \n",
    "        # build up the data for this replicate\n",
    "        replicate_data = {'estimate':'NA',\n",
    "                          'uncertainty':'NA',\n",
    "                          'protocol_result':srckey_to_protocol[sk],\n",
    "                          'unit_results':srckey_to_units[sk]}\n",
    "    \n",
    "        # write!\n",
    "        dump_json(replicate_data, rep_dir/f\"{leg}.json\")\n",
    "        working_dir_name = f\"shared_{sk}_attempt_0\"\n",
    "        ## TODO: make this work for arbitrary number of attempts \n",
    "        # os.symlink(orig_dir/leg/working_dir_name, rep_dir/leg/working_dir_name)\n",
    "        shutil.copytree(orig_dir/leg/working_dir_name, rep_dir/leg/working_dir_name)\n"
   ]
  },
  {
   "cell_type": "code",
   "execution_count": null,
   "id": "e156fb4d-459d-4f33-9162-048cb1c9a476",
   "metadata": {},
   "outputs": [],
   "source": []
  }
 ],
 "metadata": {
  "kernelspec": {
   "display_name": "Python 3 (ipykernel)",
   "language": "python",
   "name": "python3"
  },
  "language_info": {
   "codemirror_mode": {
    "name": "ipython",
    "version": 3
   },
   "file_extension": ".py",
   "mimetype": "text/x-python",
   "name": "python",
   "nbconvert_exporter": "python",
   "pygments_lexer": "ipython3",
   "version": "3.12.7"
  }
 },
 "nbformat": 4,
 "nbformat_minor": 5
}
